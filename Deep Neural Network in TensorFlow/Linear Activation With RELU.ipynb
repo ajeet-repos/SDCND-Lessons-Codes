{
 "cells": [
  {
   "cell_type": "code",
   "execution_count": 1,
   "metadata": {
    "collapsed": true
   },
   "outputs": [],
   "source": [
    "import tensorflow as tf\n",
    "from tensorflow.examples.tutorials.mnist import input_data"
   ]
  },
  {
   "cell_type": "code",
   "execution_count": 4,
   "metadata": {
    "collapsed": false
   },
   "outputs": [
    {
     "name": "stdout",
     "output_type": "stream",
     "text": [
      "Extracting .\\train-images-idx3-ubyte.gz\n",
      "Extracting .\\train-labels-idx1-ubyte.gz\n",
      "Extracting .\\t10k-images-idx3-ubyte.gz\n",
      "Extracting .\\t10k-labels-idx1-ubyte.gz\n"
     ]
    }
   ],
   "source": [
    "mnist = input_data.read_data_sets(\".\", one_hot=True, reshape=False)"
   ]
  },
  {
   "cell_type": "code",
   "execution_count": 19,
   "metadata": {
    "collapsed": true
   },
   "outputs": [],
   "source": [
    "# parameters\n",
    "learning_rate = 0.001\n",
    "training_epochs = 100\n",
    "batch_size = 256\n",
    "display_step = 1\n",
    "\n",
    "n_input = 784\n",
    "n_classes = 10"
   ]
  },
  {
   "cell_type": "code",
   "execution_count": 6,
   "metadata": {
    "collapsed": true
   },
   "outputs": [],
   "source": [
    "n_hidden_layer = 256"
   ]
  },
  {
   "cell_type": "code",
   "execution_count": 7,
   "metadata": {
    "collapsed": true
   },
   "outputs": [],
   "source": [
    "weights = {\n",
    "    'hidden_layer': tf.Variable(tf.random_normal([n_input, n_hidden_layer])),\n",
    "    'out': tf.Variable(tf.random_normal([n_hidden_layer, n_classes]))\n",
    "}\n",
    "\n",
    "biases = {\n",
    "    'hidden_layer': tf.Variable(tf.random_normal([n_hidden_layer])),\n",
    "    'out': tf.Variable(tf.random_normal([n_classes]))\n",
    "}"
   ]
  },
  {
   "cell_type": "code",
   "execution_count": 8,
   "metadata": {
    "collapsed": false
   },
   "outputs": [
    {
     "name": "stdout",
     "output_type": "stream",
     "text": [
      "(?, 28, 28, 1)\n",
      "(?, 10)\n",
      "(?, 784)\n"
     ]
    }
   ],
   "source": [
    "x = tf.placeholder(\"float\", [None, 28, 28, 1])\n",
    "y = tf.placeholder(\"float\", [None, n_classes])\n",
    "\n",
    "x_flat = tf.reshape(x, [-1, n_input])\n",
    "\n",
    "print(x.shape)\n",
    "print(y.shape)\n",
    "print(x_flat.shape)"
   ]
  },
  {
   "cell_type": "code",
   "execution_count": 9,
   "metadata": {
    "collapsed": true
   },
   "outputs": [],
   "source": [
    "layer_1 = tf.add(tf.matmul(x_flat, weights['hidden_layer']), biases['hidden_layer'])\n",
    "layer_1 = tf.nn.relu(layer_1)\n",
    "\n",
    "logits = tf.add(tf.matmul(layer_1, weights['out']), biases['out'])"
   ]
  },
  {
   "cell_type": "code",
   "execution_count": 11,
   "metadata": {
    "collapsed": false
   },
   "outputs": [
    {
     "name": "stdout",
     "output_type": "stream",
     "text": [
      "WARNING:tensorflow:From <ipython-input-11-dc40146abb32>:1: softmax_cross_entropy_with_logits (from tensorflow.python.ops.nn_ops) is deprecated and will be removed in a future version.\n",
      "Instructions for updating:\n",
      "\n",
      "Future major versions of TensorFlow will allow gradients to flow\n",
      "into the labels input on backprop by default.\n",
      "\n",
      "See tf.nn.softmax_cross_entropy_with_logits_v2.\n",
      "\n"
     ]
    }
   ],
   "source": [
    "cost = tf.reduce_mean(tf.nn.softmax_cross_entropy_with_logits(logits=logits, labels=y))\n",
    "optimizer = tf.train.GradientDescentOptimizer(learning_rate=learning_rate).minimize(cost)"
   ]
  },
  {
   "cell_type": "code",
   "execution_count": 20,
   "metadata": {
    "collapsed": false
   },
   "outputs": [
    {
     "name": "stdout",
     "output_type": "stream",
     "text": [
      "Epoch: 0001 cost=31.862678635\n",
      "Epoch: 0002 cost=12.048564164\n",
      "Epoch: 0003 cost=9.068294828\n",
      "Epoch: 0004 cost=7.587532090\n",
      "Epoch: 0005 cost=6.666987093\n",
      "Epoch: 0006 cost=6.030182106\n",
      "Epoch: 0007 cost=5.461977219\n",
      "Epoch: 0008 cost=5.143208044\n",
      "Epoch: 0009 cost=4.813657070\n",
      "Epoch: 0010 cost=4.501905557\n",
      "Epoch: 0011 cost=4.264538122\n",
      "Epoch: 0012 cost=4.075670414\n",
      "Epoch: 0013 cost=3.827854849\n",
      "Epoch: 0014 cost=3.716274427\n",
      "Epoch: 0015 cost=3.493018783\n",
      "Epoch: 0016 cost=3.409264553\n",
      "Epoch: 0017 cost=3.311697498\n",
      "Epoch: 0018 cost=3.133823037\n",
      "Epoch: 0019 cost=3.110730343\n",
      "Epoch: 0020 cost=2.888140189\n",
      "Epoch: 0021 cost=2.829939525\n",
      "Epoch: 0022 cost=2.831536995\n",
      "Epoch: 0023 cost=2.676278508\n",
      "Epoch: 0024 cost=2.596738340\n",
      "Epoch: 0025 cost=2.526248339\n",
      "Epoch: 0026 cost=2.491481810\n",
      "Epoch: 0027 cost=2.376958053\n",
      "Epoch: 0028 cost=2.311627614\n",
      "Epoch: 0029 cost=2.255922516\n",
      "Epoch: 0030 cost=2.250882039\n",
      "Epoch: 0031 cost=2.153346403\n",
      "Epoch: 0032 cost=2.121471452\n",
      "Epoch: 0033 cost=2.052100193\n",
      "Epoch: 0034 cost=2.023802643\n",
      "Epoch: 0035 cost=1.956714104\n",
      "Epoch: 0036 cost=1.931846565\n",
      "Epoch: 0037 cost=1.878762198\n",
      "Epoch: 0038 cost=1.826156251\n",
      "Epoch: 0039 cost=1.759093453\n",
      "Epoch: 0040 cost=1.804704900\n",
      "Epoch: 0041 cost=1.722106145\n",
      "Epoch: 0042 cost=1.724581560\n",
      "Epoch: 0043 cost=1.603216311\n",
      "Epoch: 0044 cost=1.667741949\n",
      "Epoch: 0045 cost=1.609283278\n",
      "Epoch: 0046 cost=1.572733206\n",
      "Epoch: 0047 cost=1.536141963\n",
      "Epoch: 0048 cost=1.517062009\n",
      "Epoch: 0049 cost=1.486530660\n",
      "Epoch: 0050 cost=1.455255158\n",
      "Epoch: 0051 cost=1.431648622\n",
      "Epoch: 0052 cost=1.432582982\n",
      "Epoch: 0053 cost=1.384909801\n",
      "Epoch: 0054 cost=1.335229102\n",
      "Epoch: 0055 cost=1.376701185\n",
      "Epoch: 0056 cost=1.283559468\n",
      "Epoch: 0057 cost=1.310853667\n",
      "Epoch: 0058 cost=1.286404002\n",
      "Epoch: 0059 cost=1.266970841\n",
      "Epoch: 0060 cost=1.250001226\n",
      "Epoch: 0061 cost=1.213932977\n",
      "Epoch: 0062 cost=1.177027955\n",
      "Epoch: 0063 cost=1.201926466\n",
      "Epoch: 0064 cost=1.170087078\n",
      "Epoch: 0065 cost=1.163329312\n",
      "Epoch: 0066 cost=1.106841024\n",
      "Epoch: 0067 cost=1.119180101\n",
      "Epoch: 0068 cost=1.089149749\n",
      "Epoch: 0069 cost=1.089687874\n",
      "Epoch: 0070 cost=1.067768588\n",
      "Epoch: 0071 cost=1.075618503\n",
      "Epoch: 0072 cost=1.039208798\n",
      "Epoch: 0073 cost=1.029590269\n",
      "Epoch: 0074 cost=1.013418547\n",
      "Epoch: 0075 cost=1.030014353\n",
      "Epoch: 0076 cost=0.967446085\n",
      "Epoch: 0077 cost=0.974172208\n",
      "Epoch: 0078 cost=0.963675969\n",
      "Epoch: 0079 cost=0.945628487\n",
      "Epoch: 0080 cost=0.962344207\n",
      "Epoch: 0081 cost=0.930703597\n",
      "Epoch: 0082 cost=0.905030306\n",
      "Epoch: 0083 cost=0.914015272\n",
      "Epoch: 0084 cost=0.884491705\n",
      "Epoch: 0085 cost=0.882803511\n",
      "Epoch: 0086 cost=0.867371570\n",
      "Epoch: 0087 cost=0.871591887\n",
      "Epoch: 0088 cost=0.852297502\n",
      "Epoch: 0089 cost=0.857836528\n",
      "Epoch: 0090 cost=0.798293134\n",
      "Epoch: 0091 cost=0.833009740\n",
      "Epoch: 0092 cost=0.835320140\n",
      "Epoch: 0093 cost=0.798219397\n",
      "Epoch: 0094 cost=0.793482012\n",
      "Epoch: 0095 cost=0.792773346\n",
      "Epoch: 0096 cost=0.782232308\n",
      "Epoch: 0097 cost=0.776611894\n",
      "Epoch: 0098 cost=0.738673016\n",
      "Epoch: 0099 cost=0.772842531\n",
      "Epoch: 0100 cost=0.740224607\n",
      "Optimization Finished!\n",
      "Trained model saved\n"
     ]
    }
   ],
   "source": [
    "init = tf.global_variables_initializer()\n",
    "\n",
    "saver = tf.train.Saver()\n",
    "save_file = \"./train_model.ckpt\"\n",
    "\n",
    "with tf.Session() as sess:\n",
    "    sess.run(init)\n",
    "    \n",
    "    for epoch in range(training_epochs):\n",
    "        avg_cost = 0.\n",
    "        total_batches = int(mnist.train.num_examples / batch_size)\n",
    "        for i in range(total_batches):\n",
    "            batch_x, batch_y = mnist.train.next_batch(batch_size)\n",
    "            \n",
    "            _, c = sess.run([optimizer, cost], feed_dict={x:batch_x, y:batch_y})\n",
    "            \n",
    "            avg_cost += c / total_batches\n",
    "            \n",
    "        if epoch % display_step == 0:\n",
    "            print(\"Epoch:\", '%04d' % (epoch+1), \"cost={:.9f}\".format(avg_cost))\n",
    "            \n",
    "    print('Optimization Finished!')\n",
    "    \n",
    "    saver.save(sess, save_file)\n",
    "    print(\"Trained model saved\")"
   ]
  },
  {
   "cell_type": "code",
   "execution_count": null,
   "metadata": {
    "collapsed": true
   },
   "outputs": [],
   "source": []
  }
 ],
 "metadata": {
  "kernelspec": {
   "display_name": "Python 3",
   "language": "python",
   "name": "python3"
  },
  "language_info": {
   "codemirror_mode": {
    "name": "ipython",
    "version": 3
   },
   "file_extension": ".py",
   "mimetype": "text/x-python",
   "name": "python",
   "nbconvert_exporter": "python",
   "pygments_lexer": "ipython3",
   "version": "3.5.2"
  }
 },
 "nbformat": 4,
 "nbformat_minor": 2
}
